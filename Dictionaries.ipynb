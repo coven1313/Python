{
 "cells": [
  {
   "cell_type": "code",
   "execution_count": 1,
   "id": "e98a6b77",
   "metadata": {},
   "outputs": [],
   "source": [
    "dict = {'apples': 2, 'peaches': 5, 'cucumbers': 4, 'eggplants': 6}"
   ]
  },
  {
   "cell_type": "code",
   "execution_count": 2,
   "id": "bcaf0a8d",
   "metadata": {},
   "outputs": [],
   "source": [
    "del dict['cucumbers']"
   ]
  },
  {
   "cell_type": "code",
   "execution_count": 3,
   "id": "7a02c7db",
   "metadata": {},
   "outputs": [
    {
     "data": {
      "text/plain": [
       "{'apples': 2, 'peaches': 5, 'eggplants': 6}"
      ]
     },
     "execution_count": 3,
     "metadata": {},
     "output_type": "execute_result"
    }
   ],
   "source": [
    "dict"
   ]
  },
  {
   "cell_type": "code",
   "execution_count": 4,
   "id": "51ad133d",
   "metadata": {},
   "outputs": [
    {
     "data": {
      "text/plain": [
       "{'apples': 2, 'peaches': 5, 'eggplants': 6, 'cucumbers': 4}"
      ]
     },
     "execution_count": 4,
     "metadata": {},
     "output_type": "execute_result"
    }
   ],
   "source": [
    "dict['cucumbers'] = 4\n",
    "dict"
   ]
  },
  {
   "cell_type": "code",
   "execution_count": 5,
   "id": "15b772eb",
   "metadata": {},
   "outputs": [
    {
     "name": "stdout",
     "output_type": "stream",
     "text": [
      "apples\n",
      "peaches\n",
      "eggplants\n",
      "cucumbers\n"
     ]
    }
   ],
   "source": [
    "# Iterations\n",
    "\n",
    "for fruit in dict:\n",
    "    print(fruit)"
   ]
  },
  {
   "cell_type": "code",
   "execution_count": 6,
   "id": "7008bfa9",
   "metadata": {},
   "outputs": [
    {
     "name": "stdout",
     "output_type": "stream",
     "text": [
      "4\n",
      "7\n",
      "8\n",
      "6\n"
     ]
    }
   ],
   "source": [
    "price = 0\n",
    "for price in dict.values():\n",
    "    print(price + 2)"
   ]
  },
  {
   "cell_type": "code",
   "execution_count": 7,
   "id": "57f8f6a4",
   "metadata": {},
   "outputs": [
    {
     "name": "stdout",
     "output_type": "stream",
     "text": [
      "apples cost 2 lari today.\n",
      "peaches cost 5 lari today.\n",
      "eggplants cost 6 lari today.\n",
      "cucumbers cost 4 lari today.\n"
     ]
    }
   ],
   "source": [
    "for fruit, price in dict.items():\n",
    "    print(f\"{fruit} cost {price} lari today.\")"
   ]
  },
  {
   "cell_type": "code",
   "execution_count": 8,
   "id": "b6f36193",
   "metadata": {},
   "outputs": [
    {
     "data": {
      "text/plain": [
       "'not found'"
      ]
     },
     "execution_count": 8,
     "metadata": {},
     "output_type": "execute_result"
    }
   ],
   "source": [
    "# Getting values\n",
    "\n",
    "other_fruits = dict.get('tomatoes', 'not found')\n",
    "other_fruits"
   ]
  },
  {
   "cell_type": "code",
   "execution_count": 9,
   "id": "a2150b7d",
   "metadata": {},
   "outputs": [
    {
     "data": {
      "text/plain": [
       "{'apples': 6, 'peaches': 7, 'eggplants': 9, 'cucumbers': 9}"
      ]
     },
     "execution_count": 9,
     "metadata": {},
     "output_type": "execute_result"
    }
   ],
   "source": [
    "# Dictionary Comprehensions\n",
    "\n",
    "fruits = ['apples', 'peaches', 'eggplants', 'cucumbers']\n",
    "new_fruits = {fruit: len(fruit) for fruit in fruits}\n",
    "new_fruits"
   ]
  },
  {
   "cell_type": "code",
   "execution_count": 14,
   "id": "095a97ef",
   "metadata": {},
   "outputs": [
    {
     "data": {
      "text/plain": [
       "{2: 'apples', 5: 'peaches', 6: 'eggplants', 4: 'cucumbers'}"
      ]
     },
     "execution_count": 14,
     "metadata": {},
     "output_type": "execute_result"
    }
   ],
   "source": [
    "# Combining lists into dict\n",
    "\n",
    "fruits = ['apples', 'peaches', 'eggplants', 'cucumbers']\n",
    "prices = [2, 5, 6, 4]\n",
    "\n",
    "comb_fruits = {}\n",
    "for idx, price in enumerate(prices):\n",
    "    comb_fruits[price] = fruits[idx]\n",
    "\n",
    "comb_fruits"
   ]
  },
  {
   "cell_type": "code",
   "execution_count": 16,
   "id": "2953c343",
   "metadata": {},
   "outputs": [
    {
     "data": {
      "text/plain": [
       "{'apples': 2, 'peaches': 5, 'cucumbers': 4, 'eggplants': 6, 'tomatoes': 3}"
      ]
     },
     "execution_count": 16,
     "metadata": {},
     "output_type": "execute_result"
    }
   ],
   "source": [
    "# Dictionary Merging\n",
    "\n",
    "dict = {'apples': 2, 'peaches': 5, 'cucumbers': 4, 'eggplants': 6}\n",
    "new_dict = {'tomatoes': 3}\n",
    "dict.update(new_dict)\n",
    "dict"
   ]
  },
  {
   "cell_type": "code",
   "execution_count": 19,
   "id": "341bb9de",
   "metadata": {},
   "outputs": [
    {
     "data": {
      "text/plain": [
       "{'apples': 2,\n",
       " 'peaches': 5,\n",
       " 'cucumbers': 4,\n",
       " 'eggplants': 6,\n",
       " 'tomatoes': 3,\n",
       " 'cherries': 4}"
      ]
     },
     "execution_count": 19,
     "metadata": {},
     "output_type": "execute_result"
    }
   ],
   "source": [
    "dict = {'apples': 2, 'peaches': 5, 'cucumbers': 4, 'eggplants': 6}\n",
    "new_dict = {'tomatoes': 3}\n",
    "new_dict1 = {'cherries': 4}\n",
    "dict = dict | new_dict | new_dict1\n",
    "dict"
   ]
  }
 ],
 "metadata": {
  "kernelspec": {
   "display_name": "Python 3 (ipykernel)",
   "language": "python",
   "name": "python3"
  },
  "language_info": {
   "codemirror_mode": {
    "name": "ipython",
    "version": 3
   },
   "file_extension": ".py",
   "mimetype": "text/x-python",
   "name": "python",
   "nbconvert_exporter": "python",
   "pygments_lexer": "ipython3",
   "version": "3.10.9"
  }
 },
 "nbformat": 4,
 "nbformat_minor": 5
}
