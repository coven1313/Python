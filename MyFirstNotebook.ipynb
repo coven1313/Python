{
 "cells": [
  {
   "cell_type": "code",
   "execution_count": 1,
   "id": "cb04ebc4",
   "metadata": {},
   "outputs": [],
   "source": [
    "# This line of code prints out the message\n",
    "\n",
    "print(\"Hello, World!\")"
   ]
  },
  {
   "cell_type": "code",
   "execution_count": 2,
   "id": "c54cf7a0",
   "metadata": {},
   "outputs": [],
   "source": [
    "import math"
   ]
  },
  {
   "cell_type": "code",
   "execution_count": 3,
   "id": "faed03aa",
   "metadata": {},
   "outputs": [],
   "source": [
    "math.factorial(7)"
   ]
  },
  {
   "cell_type": "code",
   "execution_count": 4,
   "id": "be970912",
   "metadata": {},
   "outputs": [],
   "source": [
    "# Save the notebook with the Markdown documentation."
   ]
  },
  {
   "cell_type": "code",
   "execution_count": 5,
   "id": "6cf0f8e9",
   "metadata": {},
   "outputs": [],
   "source": [
    "# Create two code cells with Python code.\n",
    "In the first cell, define a variable and assign it a value.\n",
    "In the second cell, print the value of the variable.\n",
    "Execute the cells out of order (i.e., run the second cell before the first one).\n",
    "Observe and describe what happens."
   ]
  },
  {
   "cell_type": "code",
   "execution_count": 6,
   "id": "64d6c287",
   "metadata": {},
   "outputs": [],
   "source": [
    "print(x)"
   ]
  },
  {
   "cell_type": "code",
   "execution_count": 7,
   "id": "1a5fc7b3",
   "metadata": {},
   "outputs": [],
   "source": [
    "x = 'my variable'"
   ]
  },
  {
   "cell_type": "code",
   "execution_count": 8,
   "id": "9e466376",
   "metadata": {},
   "outputs": [],
   "source": [
    "%notebook \"C:\\Users\\Котя\\Downloads\\Telegram Desktop\\MyFirstNotebook.ipynb\""
   ]
  }
 ],
 "metadata": {},
 "nbformat": 4,
 "nbformat_minor": 5
}
