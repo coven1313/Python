{
 "cells": [
  {
   "cell_type": "code",
   "execution_count": 2,
   "id": "da4a7b20",
   "metadata": {},
   "outputs": [],
   "source": [
    "import numpy as np"
   ]
  },
  {
   "cell_type": "code",
   "execution_count": 6,
   "id": "62313c40",
   "metadata": {},
   "outputs": [],
   "source": [
    "arr = np.random.randint(100, size=6)"
   ]
  },
  {
   "cell_type": "code",
   "execution_count": 7,
   "id": "ea5a2ba8",
   "metadata": {},
   "outputs": [
    {
     "data": {
      "text/plain": [
       "array([83, 21, 36, 87, 70, 88])"
      ]
     },
     "execution_count": 7,
     "metadata": {},
     "output_type": "execute_result"
    }
   ],
   "source": [
    "arr"
   ]
  },
  {
   "cell_type": "code",
   "execution_count": 8,
   "id": "aa36bafe",
   "metadata": {},
   "outputs": [],
   "source": [
    "# Filtering\n",
    "# Remove everything less than 50\n",
    "\n",
    "filt_arr = np.where(arr >= 50, arr, 0)"
   ]
  },
  {
   "cell_type": "code",
   "execution_count": 9,
   "id": "76159529",
   "metadata": {},
   "outputs": [
    {
     "data": {
      "text/plain": [
       "array([83,  0,  0, 87, 70, 88])"
      ]
     },
     "execution_count": 9,
     "metadata": {},
     "output_type": "execute_result"
    }
   ],
   "source": [
    "filt_arr"
   ]
  },
  {
   "cell_type": "code",
   "execution_count": 22,
   "id": "98b5010d",
   "metadata": {},
   "outputs": [
    {
     "data": {
      "text/plain": [
       "array([False,  True, False, False,  True,  True])"
      ]
     },
     "execution_count": 22,
     "metadata": {},
     "output_type": "execute_result"
    }
   ],
   "source": [
    "# Adding based on true/false\n",
    "\n",
    "initial_arr = [True, False]\n",
    "bool_arr = np.random.choice(initial_arr, size=6)\n",
    "bool_arr"
   ]
  },
  {
   "cell_type": "code",
   "execution_count": 23,
   "id": "edc758d6",
   "metadata": {},
   "outputs": [
    {
     "data": {
      "text/plain": [
       "array([ 83,  20,   0,  87,  90, 108])"
      ]
     },
     "execution_count": 23,
     "metadata": {},
     "output_type": "execute_result"
    }
   ],
   "source": [
    "high_arr = np.where(bool_arr, filt_arr + 20, filt_arr)\n",
    "high_arr"
   ]
  },
  {
   "cell_type": "code",
   "execution_count": 24,
   "id": "303166ed",
   "metadata": {},
   "outputs": [
    {
     "data": {
      "text/plain": [
       "(6,)"
      ]
     },
     "execution_count": 24,
     "metadata": {},
     "output_type": "execute_result"
    }
   ],
   "source": [
    "# Reshaping\n",
    "\n",
    "high_arr.shape"
   ]
  },
  {
   "cell_type": "code",
   "execution_count": 35,
   "id": "f2a5d016",
   "metadata": {},
   "outputs": [
    {
     "data": {
      "text/plain": [
       "array([[ 83],\n",
       "       [ 20],\n",
       "       [  0],\n",
       "       [ 87],\n",
       "       [ 90],\n",
       "       [108]])"
      ]
     },
     "execution_count": 35,
     "metadata": {},
     "output_type": "execute_result"
    }
   ],
   "source": [
    "shaped_arr = high_arr.reshape(6,1)\n",
    "shaped_arr"
   ]
  },
  {
   "cell_type": "code",
   "execution_count": 34,
   "id": "e9a69530",
   "metadata": {},
   "outputs": [
    {
     "data": {
      "text/plain": [
       "array([ 83,  20,   0,  87,  90, 108])"
      ]
     },
     "execution_count": 34,
     "metadata": {},
     "output_type": "execute_result"
    }
   ],
   "source": [
    "# Go back\n",
    "\n",
    "shaped_arr2 = high_arr.reshape(6,)\n",
    "shaped_arr2"
   ]
  },
  {
   "cell_type": "code",
   "execution_count": 76,
   "id": "69809d32",
   "metadata": {},
   "outputs": [
    {
     "data": {
      "text/plain": [
       "array([[1, 2],\n",
       "       [3, 4],\n",
       "       [5, 6]])"
      ]
     },
     "execution_count": 76,
     "metadata": {},
     "output_type": "execute_result"
    }
   ],
   "source": [
    "# Restructuring\n",
    "\n",
    "matrix = np.array([[1, 2], [3, 4], [5, 6]])\n",
    "matrix"
   ]
  },
  {
   "cell_type": "code",
   "execution_count": 81,
   "id": "3efdd38e",
   "metadata": {},
   "outputs": [
    {
     "data": {
      "text/plain": [
       "array([[1, 3, 5],\n",
       "       [2, 4, 6]])"
      ]
     },
     "execution_count": 81,
     "metadata": {},
     "output_type": "execute_result"
    }
   ],
   "source": [
    "restr_matrix = np.moveaxis(matrix, [0,1], [1,0])\n",
    "restr_matrix"
   ]
  },
  {
   "cell_type": "code",
   "execution_count": 79,
   "id": "ab5e7277",
   "metadata": {},
   "outputs": [
    {
     "data": {
      "text/plain": [
       "array([[1, 2, 3],\n",
       "       [4, 5, 6]])"
      ]
     },
     "execution_count": 79,
     "metadata": {},
     "output_type": "execute_result"
    }
   ],
   "source": [
    "# Compare\n",
    "\n",
    "reshaped_matrix = matrix.reshape(2,3)\n",
    "reshaped_matrix"
   ]
  },
  {
   "cell_type": "code",
   "execution_count": 101,
   "id": "b1f2fd48",
   "metadata": {},
   "outputs": [
    {
     "data": {
      "text/plain": [
       "(array(['Chocolate', 'Mint', 'Strawberry', 'Vanilla'], dtype='<U10'),\n",
       " array([2, 1, 1, 2], dtype=int64))"
      ]
     },
     "execution_count": 101,
     "metadata": {},
     "output_type": "execute_result"
    }
   ],
   "source": [
    "# Unique values\n",
    "\n",
    "flavours = np.array(['Chocolate', 'Vanilla', 'Strawberry', 'Vanilla', 'Mint', 'Chocolate'])\n",
    "unique_flavours = np.unique(flavours)\n",
    "unique_flavours_cnt = np.unique(flavours, return_counts = True)\n",
    "unique_flavours\n",
    "unique_flavours_cnt"
   ]
  },
  {
   "cell_type": "code",
   "execution_count": 98,
   "id": "37545755",
   "metadata": {},
   "outputs": [
    {
     "data": {
      "text/plain": [
       "array([ 0,  1,  2,  3,  4,  5,  6,  7,  8,  9, 10, 11, 12, 13, 14, 15, 16,\n",
       "       17, 18, 19])"
      ]
     },
     "execution_count": 98,
     "metadata": {},
     "output_type": "execute_result"
    }
   ],
   "source": [
    "# Combining arrays\n",
    "\n",
    "arr1 = np.arange(10)\n",
    "arr2 = np.arange(10,20)\n",
    "new_arr = np.concatenate((arr1, arr2))\n",
    "new_arr"
   ]
  },
  {
   "cell_type": "code",
   "execution_count": 100,
   "id": "efc6b9be",
   "metadata": {},
   "outputs": [
    {
     "data": {
      "text/plain": [
       "array([[ 0, 10],\n",
       "       [ 1, 11],\n",
       "       [ 2, 12],\n",
       "       [ 3, 13],\n",
       "       [ 4, 14],\n",
       "       [ 5, 15],\n",
       "       [ 6, 16],\n",
       "       [ 7, 17],\n",
       "       [ 8, 18],\n",
       "       [ 9, 19]])"
      ]
     },
     "execution_count": 100,
     "metadata": {},
     "output_type": "execute_result"
    }
   ],
   "source": [
    "# Stacking arrays\n",
    "\n",
    "arr1 = arr1.reshape(10,1)\n",
    "arr2 = arr2.reshape(10,1)\n",
    "stacked_arr = np.concatenate((arr1, arr2), axis = 1)\n",
    "stacked_arr"
   ]
  },
  {
   "cell_type": "code",
   "execution_count": 104,
   "id": "d15ced34",
   "metadata": {},
   "outputs": [
    {
     "data": {
      "text/plain": [
       "array([[ 0,  1,  2,  3,  4,  5,  6,  7,  8,  9],\n",
       "       [10, 11, 12, 13, 14, 15, 16, 17, 18, 19]])"
      ]
     },
     "execution_count": 104,
     "metadata": {},
     "output_type": "execute_result"
    }
   ],
   "source": [
    "stacked_arr = np.moveaxis(stacked_arr, [0,1], [1,0])\n",
    "stacked_arr"
   ]
  },
  {
   "cell_type": "code",
   "execution_count": 3,
   "id": "ad8f82eb",
   "metadata": {},
   "outputs": [
    {
     "data": {
      "text/plain": [
       "array([[12, 95, 65],\n",
       "       [30,  9, 67]])"
      ]
     },
     "execution_count": 3,
     "metadata": {},
     "output_type": "execute_result"
    }
   ],
   "source": [
    "# Stacking\n",
    "\n",
    "x = np.array([12, 95, 65])\n",
    "y = np.array([30, 9, 67])\n",
    "z = np.vstack((x, y))\n",
    "z"
   ]
  },
  {
   "cell_type": "code",
   "execution_count": 4,
   "id": "1705d6e6",
   "metadata": {},
   "outputs": [
    {
     "data": {
      "text/plain": [
       "array([12, 95, 65, 30,  9, 67])"
      ]
     },
     "execution_count": 4,
     "metadata": {},
     "output_type": "execute_result"
    }
   ],
   "source": [
    "r = np.hstack((x, y))\n",
    "r"
   ]
  },
  {
   "cell_type": "code",
   "execution_count": 6,
   "id": "a5efa134",
   "metadata": {},
   "outputs": [
    {
     "data": {
      "text/plain": [
       "[array([[12, 95, 65]]), array([[30,  9, 67]])]"
      ]
     },
     "execution_count": 6,
     "metadata": {},
     "output_type": "execute_result"
    }
   ],
   "source": [
    "# Splitting\n",
    "\n",
    "a = np.array([[12, 95, 65], [30,  9, 67]])\n",
    "vsplit_a = np.vsplit(a, 2)\n",
    "vsplit_a"
   ]
  },
  {
   "cell_type": "code",
   "execution_count": 9,
   "id": "df64b580",
   "metadata": {},
   "outputs": [
    {
     "data": {
      "text/plain": [
       "[array([[12],\n",
       "        [30]]),\n",
       " array([[95],\n",
       "        [ 9]]),\n",
       " array([[65],\n",
       "        [67]])]"
      ]
     },
     "execution_count": 9,
     "metadata": {},
     "output_type": "execute_result"
    }
   ],
   "source": [
    "hsplit_a = np.hsplit(a, 3)\n",
    "hsplit_a"
   ]
  }
 ],
 "metadata": {
  "kernelspec": {
   "display_name": "Python 3 (ipykernel)",
   "language": "python",
   "name": "python3"
  },
  "language_info": {
   "codemirror_mode": {
    "name": "ipython",
    "version": 3
   },
   "file_extension": ".py",
   "mimetype": "text/x-python",
   "name": "python",
   "nbconvert_exporter": "python",
   "pygments_lexer": "ipython3",
   "version": "3.10.9"
  }
 },
 "nbformat": 4,
 "nbformat_minor": 5
}
